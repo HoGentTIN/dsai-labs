{
 "cells": [
  {
   "cell_type": "markdown",
   "metadata": {},
   "source": [
    "# Lab 2.06 - Univariate Analysis\n",
    "\n",
    "## Exercise 6 - Android Persistence\n",
    "\n",
    "Import all necessary Python libraries and load the Android Persistence dataset from lab exercise 1.02.  Do not forget the conversion to categorical variables. Define an order in case of an ordinal variable."
   ]
  },
  {
   "cell_type": "code",
   "execution_count": 17,
   "metadata": {},
   "outputs": [],
   "source": [
    "# Importing the necessary packages\n",
    "import numpy as np                                  # \"Scientific computing\"\n",
    "import scipy.stats as stats                         # Statistical tests\n",
    "\n",
    "import pandas as pd                                 # Data Frame\n",
    "from pandas.api.types import CategoricalDtype\n",
    "\n",
    "import matplotlib.pyplot as plt                     # Basic visualisation\n",
    "from statsmodels.graphics.mosaicplot import mosaic  # Mosaic diagram\n",
    "import seaborn as sns                               # Advanced data visualisation\n",
    "\n",
    "android = pd.read_csv('../data/android_persistence_cpu.csv', sep=';')"
   ]
  },
  {
   "cell_type": "markdown",
   "metadata": {},
   "source": [
    "Visualise the variables `DataSize` and `PersistenceType` separately using a suitable chart type."
   ]
  },
  {
   "cell_type": "code",
   "execution_count": 23,
   "metadata": {},
   "outputs": [
    {
     "data": {
      "text/plain": [
       "<Axes: xlabel='count', ylabel='PersistenceType'>"
      ]
     },
     "execution_count": 23,
     "metadata": {},
     "output_type": "execute_result"
    },
    {
     "data": {
      "image/png": "[encoded data removed]",
      "text/plain": [
       "<Figure size 640x480 with 1 Axes>"
      ]
     },
     "metadata": {},
     "output_type": "display_data"
    }
   ],
   "source": [
    "sns.countplot(data=android, y='PersistenceType')"
   ]
  },
  {
   "cell_type": "markdown",
   "metadata": {},
   "source": [
    "How often does each combination of `DataSize` and `PersistenceType` occur? Show the frequencies of `PersistenceType` (parameter `hue`), grouped according to `DataSize` (parameter `x`). Try it the other way round too!"
   ]
  },
  {
   "cell_type": "code",
   "execution_count": null,
   "metadata": {},
   "outputs": [],
   "source": []
  },
  {
   "cell_type": "markdown",
   "metadata": {},
   "source": [
    "Visualise the variable `Time` with a boxplot, each time with more detail. Do you notice how you get a better view of the data each time you do this?\n",
    "\n",
    "- First over the entire dataset (parameter `x`)\n",
    "- Then grouped according to `DataSize` (parameter `y`)\n",
    "- Finally, split it according to `PersistenceType` (parameter `hue`)"
   ]
  },
  {
   "cell_type": "code",
   "execution_count": null,
   "metadata": {},
   "outputs": [],
   "source": []
  },
  {
   "cell_type": "markdown",
   "metadata": {},
   "source": [
    "**(Challenge)** Try to do something similar with a density graph: for each value of `DataSize`, show a scatter diagram showing a density graph of the variable `Time` for each value of `PersistenceType` (tip: `sns.FacetGrid()`). The result may look something like this:\n",
    "\n",
    "![Density graphs for each `DataSize`, comparing the performance of different `PersistenceTypes`](img/persistence-density.png)"
   ]
  },
  {
   "cell_type": "code",
   "execution_count": null,
   "metadata": {},
   "outputs": [],
   "source": []
  },
  {
   "cell_type": "markdown",
   "metadata": {},
   "source": [
    "Calculate sample mean and standard deviation of `Time`.\n",
    "\n",
    "- Across the whole dataset\n",
    "- Broken down according to `DataSize`\n",
    "- Broken down according to `PersistenceType`\n",
    "- Broken down according to `DataSize` and `PersistenceType`"
   ]
  },
  {
   "cell_type": "code",
   "execution_count": null,
   "metadata": {},
   "outputs": [],
   "source": []
  },
  {
   "cell_type": "markdown",
   "metadata": {},
   "source": [
    "## Expected results\n",
    "\n",
    "As a check, you can find the expected results here (max. 3 decimal places):\n",
    "\n",
    "| Statistic         | Mean   | Standard deviation |\n",
    "| :---------------- | :----- | :----------------- |\n",
    "| Whole dataset     | 6.231  | 4.230              |\n",
    "| Small             | 1.741  | 0.359              |\n",
    "| Medium            | 7.022  | 1.864              |\n",
    "| Large             | 11.426 | 1.164              |\n",
    "| GreenDAO          | 7.152  | 4.386              |\n",
    "| Realm             | 6.023  | 3.884              |\n",
    "| SQLite            | 7.036  | 4.146              |\n",
    "| SharedPreferences | 1.674  | 0.285              |\n",
    "\n",
    "Split on both criteria:\n",
    "\n",
    "| Sample mean       | Small | Medium | Large  |\n",
    "| :---------------- | :---- | :----- | :----- |\n",
    "| GreenDAO          | 1.894 | 7.454  | 12.110 |\n",
    "| Realm             | 1.599 | 5.818  | 10.652 |\n",
    "| SQLite            | 1.799 | 7.794  | 11.515 |\n",
    "| SharedPreferences | 1.674 | -      | -      |\n",
    "\n",
    "| Standard deviation | Small | Medium | Large |\n",
    "| :----------------- | :---- | :----- | :---- |\n",
    "| GreenDAO           | 0.348 | 2.007  | 0.868 |\n",
    "| Realm              | 0.315 | 1.331  | 1.406 |\n",
    "| SQLite             | 0.416 | 1.599  | 0.559 |\n",
    "| SharedPreferences  | 0.285 | -      | -     |\n"
   ]
  }
 ],
 "metadata": {
  "kernelspec": {
   "display_name": "Python 3",
   "language": "python",
   "name": "python3"
  },
  "language_info": {
   "codemirror_mode": {
    "name": "ipython",
    "version": 3
   },
   "file_extension": ".py",
   "mimetype": "text/x-python",
   "name": "python",
   "nbconvert_exporter": "python",
   "pygments_lexer": "ipython3",
   "version": "3.10.12"
  },
  "orig_nbformat": 4
 },
 "nbformat": 4,
 "nbformat_minor": 2
}
