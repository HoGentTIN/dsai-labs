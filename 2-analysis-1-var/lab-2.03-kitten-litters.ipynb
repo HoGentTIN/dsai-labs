{
  "cells": [
    {
      "cell_type": "markdown",
      "metadata": {
        "id": "dYTxJWJG5miJ"
      },
      "source": [
        "# Lab 2.03 - Univariate Analysis\n"
      ]
    },
    {
      "cell_type": "code",
      "execution_count": 2,
      "metadata": {
        "id": "MvwMKfrI8X-p"
      },
      "outputs": [],
      "source": [
        "# Importing the necessary packages\n",
        "import numpy as np                                  # \"Scientific computing\"\n",
        "import scipy.stats as stats                         # Statistical tests\n",
        "\n",
        "import pandas as pd                                 # Data Frame\n",
        "from pandas.api.types import CategoricalDtype\n",
        "\n",
        "import matplotlib.pyplot as plt                     # Basic visualisation\n",
        "from statsmodels.graphics.mosaicplot import mosaic  # Mosaic diagram\n",
        "import seaborn as sns                               # Advanced data visualisation"
      ]
    },
    {
      "cell_type": "markdown",
      "metadata": {
        "id": "s4x9EYrH5miO"
      },
      "source": [
        "## Exercise 3 - Kitten litters\n",
        "\n",
        "A vet keeps a record of the number of kittens in litters produced by cats in his practice. The code block below contains the data as a frequency table.\n",
        "\n",
        "- First put the data into one list of individual observations: [1, 1, 2, 2, ... 5, 5, 6, 6, 6, 6, 7, 7, 8]  \n",
        "- Visualise the data set using all suitable chart types that you know of.\n",
        "- Calculate:\n",
        "    - the median size of a litter\n",
        "    - the mean size of a litter\n",
        "    - the lower quartile\n",
        "    - the upper quartile"
      ]
    },
    {
      "cell_type": "code",
      "execution_count": 4,
      "metadata": {
        "colab": {
          "base_uri": "https://localhost:8080/",
          "height": 300
        },
        "id": "7pKKrRuj5miO",
        "outputId": "f0f1919c-bbdf-4149-802a-d9198278e359"
      },
      "outputs": [
        {
          "data": {
            "text/html": [
              "<div>\n",
              "<style scoped>\n",
              "    .dataframe tbody tr th:only-of-type {\n",
              "        vertical-align: middle;\n",
              "    }\n",
              "\n",
              "    .dataframe tbody tr th {\n",
              "        vertical-align: top;\n",
              "    }\n",
              "\n",
              "    .dataframe thead th {\n",
              "        text-align: right;\n",
              "    }\n",
              "</style>\n",
              "<table border=\"1\" class=\"dataframe\">\n",
              "  <thead>\n",
              "    <tr style=\"text-align: right;\">\n",
              "      <th></th>\n",
              "      <th>Number in litter</th>\n",
              "      <th>Frequency</th>\n",
              "    </tr>\n",
              "  </thead>\n",
              "  <tbody>\n",
              "    <tr>\n",
              "      <th>0</th>\n",
              "      <td>1</td>\n",
              "      <td>2</td>\n",
              "    </tr>\n",
              "    <tr>\n",
              "      <th>1</th>\n",
              "      <td>2</td>\n",
              "      <td>4</td>\n",
              "    </tr>\n",
              "    <tr>\n",
              "      <th>2</th>\n",
              "      <td>3</td>\n",
              "      <td>7</td>\n",
              "    </tr>\n",
              "    <tr>\n",
              "      <th>3</th>\n",
              "      <td>4</td>\n",
              "      <td>11</td>\n",
              "    </tr>\n",
              "    <tr>\n",
              "      <th>4</th>\n",
              "      <td>5</td>\n",
              "      <td>8</td>\n",
              "    </tr>\n",
              "    <tr>\n",
              "      <th>5</th>\n",
              "      <td>6</td>\n",
              "      <td>4</td>\n",
              "    </tr>\n",
              "    <tr>\n",
              "      <th>6</th>\n",
              "      <td>7</td>\n",
              "      <td>2</td>\n",
              "    </tr>\n",
              "    <tr>\n",
              "      <th>7</th>\n",
              "      <td>8</td>\n",
              "      <td>1</td>\n",
              "    </tr>\n",
              "  </tbody>\n",
              "</table>\n",
              "</div>"
            ],
            "text/plain": [
              "   Number in litter  Frequency\n",
              "0                 1          2\n",
              "1                 2          4\n",
              "2                 3          7\n",
              "3                 4         11\n",
              "4                 5          8\n",
              "5                 6          4\n",
              "6                 7          2\n",
              "7                 8          1"
            ]
          },
          "execution_count": 4,
          "metadata": {},
          "output_type": "execute_result"
        }
      ],
      "source": [
        "kittens = pd.DataFrame.from_dict({\n",
        "    'Number in litter': [1, 2, 3,  4, 5, 6, 7, 8],\n",
        "    'Frequency':        [2, 4, 7, 11, 8, 4, 2, 1]})\n",
        "kittens"
      ]
    },
    {
      "cell_type": "code",
      "execution_count": 15,
      "metadata": {},
      "outputs": [
        {
          "name": "stdout",
          "output_type": "stream",
          "text": [
            "The mediuan is:  4.0\n",
            "The mean is:  4.128205128205129\n",
            "The lower quartile is:  3.0\n",
            "The upper quartile is:  5.0\n"
          ]
        }
      ],
      "source": [
        "observations = np.repeat(kittens['Number in litter'], kittens['Frequency'])\n",
        "print(\"The median is: \", observations.median())\n",
        "print(\"The mean is: \", observations.mean())\n",
        "print(\"The lower quartile is: \", np.percentile(observations, 25))\n",
        "print(\"The upper quartile is: \", np.percentile(observations, 75))"
      ]
    },
    {
      "cell_type": "code",
      "execution_count": 16,
      "metadata": {},
      "outputs": [
        {
          "data": {
            "text/plain": [
              "<Axes: xlabel='Number in litter', ylabel='Frequency'>"
            ]
          },
          "execution_count": 16,
          "metadata": {},
          "output_type": "execute_result"
        },
        {
          "data": {
            "image/png": "[encoded data removed]",
            "text/plain": [
              "<Figure size 640x480 with 1 Axes>"
            ]
          },
          "metadata": {},
          "output_type": "display_data"
        }
      ],
      "source": [
        "sns.barplot(data=kittens, x='Number in litter', y='Frequency')"
      ]
    },
    {
      "cell_type": "markdown",
      "metadata": {},
      "source": [
        "### Some answers:\n",
        "\n",
        "- Median: 4.0\n",
        "- Mean: 4.128205128205129\n",
        "- Lower Quartile: 3.0\n",
        "- Upper Quartile: 5.0\n",
        "\n",
        "Source: Complete Probability & Statistics 1 for Cambridge International As & A Level"
      ]
    }
  ],
  "metadata": {
    "colab": {
      "provenance": []
    },
    "gpuClass": "standard",
    "kernelspec": {
      "display_name": "Python 3",
      "name": "python3"
    },
    "language_info": {
      "codemirror_mode": {
        "name": "ipython",
        "version": 3
      },
      "file_extension": ".py",
      "mimetype": "text/x-python",
      "name": "python",
      "nbconvert_exporter": "python",
      "pygments_lexer": "ipython3",
      "version": "3.10.12"
    },
    "orig_nbformat": 4
  },
  "nbformat": 4,
  "nbformat_minor": 0
}
