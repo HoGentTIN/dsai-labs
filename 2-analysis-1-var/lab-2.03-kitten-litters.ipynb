{
  "cells": [
    {
      "cell_type": "markdown",
      "metadata": {
        "id": "dYTxJWJG5miJ"
      },
      "source": [
        "# Lab 2.03 - Univariate Analysis\n"
      ]
    },
    {
      "cell_type": "code",
      "execution_count": 2,
      "metadata": {
        "id": "MvwMKfrI8X-p"
      },
      "outputs": [],
      "source": [
        "# Importing the necessary packages\n",
        "import numpy as np                                  # \"Scientific computing\"\n",
        "import scipy.stats as stats                         # Statistical tests\n",
        "\n",
        "import pandas as pd                                 # Data Frame\n",
        "from pandas.api.types import CategoricalDtype\n",
        "\n",
        "import matplotlib.pyplot as plt                     # Basic visualisation\n",
        "from statsmodels.graphics.mosaicplot import mosaic  # Mosaic diagram\n",
        "import seaborn as sns                               # Advanced data visualisation"
      ]
    },
    {
      "cell_type": "markdown",
      "metadata": {
        "id": "s4x9EYrH5miO"
      },
      "source": [
        "## Exercise 3 - Kitten litters\n",
        "\n",
        "A vet keeps a record of the number of kittens in litters produced by cats in his practice. The code block below contains the data as a frequency table.\n",
        "\n",
        "- First put the data into one list of individual observations: [1, 1, 2, 2, ... 5, 5, 6, 6, 6, 6, 7, 7, 8]  \n",
        "- Visualise the data set using all suitable chart types that you know of.\n",
        "- Calculate:\n",
        "    - the median size of a litter\n",
        "    - the mean size of a litter\n",
        "    - the lower quartile\n",
        "    - the upper quartile"
      ]
    },
    {
      "cell_type": "code",
      "execution_count": 6,
      "metadata": {
        "colab": {
          "base_uri": "https://localhost:8080/",
          "height": 300
        },
        "id": "7pKKrRuj5miO",
        "outputId": "f0f1919c-bbdf-4149-802a-d9198278e359"
      },
      "outputs": [
        {
          "name": "stdout",
          "output_type": "stream",
          "text": [
            "4.128205128205129\n",
            "3.0\n",
            "5.0\n"
          ]
        }
      ],
      "source": [
        "l = []\n",
        "kittens = pd.DataFrame.from_dict({\n",
        "    'Number in litter': [1, 2, 3,  4, 5, 6, 7, 8],\n",
        "    'Frequency':        [2, 4, 7, 11, 8, 4, 2, 1]})\n",
        "\n",
        "for n,f in zip(kittens['Number in litter'],kittens['Frequency']):\n",
        "    l.extend([n]*f)\n",
        "l = np.array(l)\n",
        "print(l.mean())\n",
        "print(np.percentile(l, 25))\n",
        "print(np.percentile(l, 75))"
      ]
    },
    {
      "cell_type": "code",
      "execution_count": null,
      "metadata": {},
      "outputs": [],
      "source": []
    },
    {
      "cell_type": "markdown",
      "metadata": {},
      "source": [
        "### Some answers:\n",
        "\n",
        "- Median: 4.0\n",
        "- Mean: 4.128205128205129\n",
        "- Lower Quartile: 3.0\n",
        "- Upper Quartile: 5.0\n",
        "\n",
        "Source: Complete Probability & Statistics 1 for Cambridge International As & A Level"
      ]
    }
  ],
  "metadata": {
    "colab": {
      "provenance": []
    },
    "gpuClass": "standard",
    "kernelspec": {
      "display_name": "Python 3",
      "name": "python3"
    },
    "language_info": {
      "codemirror_mode": {
        "name": "ipython",
        "version": 3
      },
      "file_extension": ".py",
      "mimetype": "text/x-python",
      "name": "python",
      "nbconvert_exporter": "python",
      "pygments_lexer": "ipython3",
      "version": "3.12.3"
    },
    "orig_nbformat": 4
  },
  "nbformat": 4,
  "nbformat_minor": 0
}
