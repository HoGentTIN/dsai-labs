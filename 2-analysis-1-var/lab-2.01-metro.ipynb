{
  "cells": [
    {
      "cell_type": "markdown",
      "metadata": {
        "id": "dYTxJWJG5miJ"
      },
      "source": [
        "# Lab 2.01 - Univariate Analysis\n"
      ]
    },
    {
      "cell_type": "code",
      "execution_count": 2,
      "metadata": {
        "id": "MvwMKfrI8X-p"
      },
      "outputs": [],
      "source": [
        "# Importing the necessary packages\n",
        "import numpy as np                                  # \"Scientific computing\"\n",
        "import scipy.stats as stats                         # Statistical tests\n",
        "\n",
        "import pandas as pd                                 # Data Frame\n",
        "from pandas.api.types import CategoricalDtype\n",
        "\n",
        "import matplotlib.pyplot as plt                     # Basic visualisation\n",
        "from statsmodels.graphics.mosaicplot import mosaic  # Mosaic diagram\n",
        "import seaborn as sns                               # Advanced data visualisation"
      ]
    },
    {
      "cell_type": "markdown",
      "metadata": {
        "id": "4ZzNUVCY8a6w"
      },
      "source": [
        "## Exercise 1 - metro\n",
        "\n",
        "At a metro station, a regular passenger records how long (in seconds) he has to wait for a train to arrive once he gets to the platform.  \n",
        "Find the median and the interquartile range of these times.\n",
        "\n",
        "Source: Complete Probability & Statistics 1 for Cambridge International As & A Level  \n",
        "Help: https://numpy.org/devdocs/reference/generated/numpy.quantile.html\n",
        "\n",
        "```\n",
        "Mean: 54.45  \n",
        "Inter Quartile Range: 54.5\n",
        "```"
      ]
    },
    {
      "cell_type": "code",
      "execution_count": 15,
      "metadata": {
        "id": "leGjVujR5miN"
      },
      "outputs": [
        {
          "name": "stdout",
          "output_type": "stream",
          "text": [
            "The median of the dataset is:  54.45 \n",
            "\n",
            "The Inter Quartile Range is: 54.5 \n",
            "Calculation: Subtract Q3 from Q1\n"
          ]
        }
      ],
      "source": [
        "a = np.array([87, 42, 0, 62, 124, 0, 58, 37, 74, 94, 182, 23, 17, 62, 29, 17, 82, 54, 0, 45])\n",
        "\n",
        "# Mean\n",
        "print(\"The median of the dataset is: \",a.mean(),\"\\n\")\n",
        "# Inter quarile range\n",
        "\n",
        "print(\"The Inter Quartile Range is:\", np.quantile(a, 0.75) - np.quantile(a, 0.25))"
      ]
    },
    {
      "cell_type": "markdown",
      "metadata": {},
      "source": [
        "The Interquartile Range (IQR) is a statistical measure that quantifies the spread or variability of data within the middle 50% of a dataset. Here’s how it works:\n",
        "\n",
        "Quartiles: Imagine dividing your data into quarters. Statisticians refer to these quarters as quartiles and label them from low to high as Q1, Q2, Q3, and Q4.\n",
        "Q1 represents the 25th percentile, covering the smallest quarter of values in your dataset.\n",
        "Q4 represents the 75th percentile, comprising the highest quarter of values.\n",
        "Q2 is the median, which splits the data into two equal halves.\n",
        "\n",
        "IQR Calculation: The IQR is the difference between the 75th percentile (Q3) and the 25th percentile (Q1):\n",
        "IQR = Q3 - Q1\n",
        "\n",
        "Interpreting IQR:\n",
        "Larger IQR values indicate that the central portion of your data spreads out further.\n",
        "Smaller IQR values show that the middle values cluster more tightly.\n",
        "Robust Measure: Unlike the mean and standard deviation, the IQR and median are robust measures. They are less affected by outliers because they don’t depend on every value.\n",
        "The IQR is especially useful for skewed distributions and provides a fuller picture of data distribution."
      ]
    }
  ],
  "metadata": {
    "colab": {
      "provenance": []
    },
    "gpuClass": "standard",
    "kernelspec": {
      "display_name": "Python 3",
      "name": "python3"
    },
    "language_info": {
      "codemirror_mode": {
        "name": "ipython",
        "version": 3
      },
      "file_extension": ".py",
      "mimetype": "text/x-python",
      "name": "python",
      "nbconvert_exporter": "python",
      "pygments_lexer": "ipython3",
      "version": "3.10.12"
    },
    "orig_nbformat": 4
  },
  "nbformat": 4,
  "nbformat_minor": 0
}
