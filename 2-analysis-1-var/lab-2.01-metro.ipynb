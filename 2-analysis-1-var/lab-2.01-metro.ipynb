{
  "cells": [
    {
      "cell_type": "markdown",
      "metadata": {
        "id": "dYTxJWJG5miJ"
      },
      "source": [
        "# Lab 2.01 - Univariate Analysis\n"
      ]
    },
    {
      "cell_type": "code",
      "execution_count": 3,
      "metadata": {
        "id": "MvwMKfrI8X-p"
      },
      "outputs": [],
      "source": [
        "# Importing the necessary packages\n",
        "import numpy as np                                  # \"Scientific computing\"\n",
        "import scipy.stats as stats                         # Statistical tests\n",
        "\n",
        "import pandas as pd                                 # Data Frame\n",
        "from pandas.api.types import CategoricalDtype\n",
        "\n",
        "import matplotlib.pyplot as plt                     # Basic visualisation\n",
        "from statsmodels.graphics.mosaicplot import mosaic  # Mosaic diagram\n",
        "import seaborn as sns                               # Advanced data visualisation"
      ]
    },
    {
      "cell_type": "markdown",
      "metadata": {
        "id": "4ZzNUVCY8a6w"
      },
      "source": [
        "## Exercise 1 - metro\n",
        "\n",
        "At a metro station, a regular passenger records how long (in seconds) he has to wait for a train to arrive once he gets to the platform.  \n",
        "Find the median and the interquartile range of these times.\n",
        "\n",
        "Source: Complete Probability & Statistics 1 for Cambridge International As & A Level  \n",
        "Help: https://numpy.org/devdocs/reference/generated/numpy.quantile.html\n",
        "\n",
        "```\n",
        "Mean: 54.45  \n",
        "Inter Quartile Range: 54.5\n",
        "```"
      ]
    },
    {
      "cell_type": "code",
      "execution_count": 6,
      "metadata": {
        "id": "leGjVujR5miN"
      },
      "outputs": [
        {
          "name": "stdout",
          "output_type": "stream",
          "text": [
            "54.45\n",
            "49.5\n"
          ]
        }
      ],
      "source": [
        "a = np.array([87, 42, 0, 62, 124, 0, 58, 37, 74, 94, 182, 23, 17, 62, 29, 17, 82, 54, 0, 45])\n",
        "print(a.mean())\n",
        "print(np.percentile(a, 50))\n"
      ]
    }
  ],
  "metadata": {
    "colab": {
      "provenance": []
    },
    "gpuClass": "standard",
    "kernelspec": {
      "display_name": "Python 3",
      "name": "python3"
    },
    "language_info": {
      "codemirror_mode": {
        "name": "ipython",
        "version": 3
      },
      "file_extension": ".py",
      "mimetype": "text/x-python",
      "name": "python",
      "nbconvert_exporter": "python",
      "pygments_lexer": "ipython3",
      "version": "3.12.3"
    },
    "orig_nbformat": 4
  },
  "nbformat": 4,
  "nbformat_minor": 0
}
