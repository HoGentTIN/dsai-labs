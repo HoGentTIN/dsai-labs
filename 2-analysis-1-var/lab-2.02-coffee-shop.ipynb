{
  "cells": [
    {
      "cell_type": "markdown",
      "metadata": {
        "id": "dYTxJWJG5miJ"
      },
      "source": [
        "# Lab 2.02 - Univariate Analysis\n"
      ]
    },
    {
      "cell_type": "code",
      "execution_count": null,
      "metadata": {
        "id": "MvwMKfrI8X-p"
      },
      "outputs": [],
      "source": [
        "# Importing the necessary packages\n",
        "import numpy as np                                  # \"Scientific computing\"\n",
        "import scipy.stats as stats                         # Statistical tests\n",
        "\n",
        "import pandas as pd                                 # Data Frame\n",
        "from pandas.api.types import CategoricalDtype\n",
        "\n",
        "import matplotlib.pyplot as plt                     # Basic visualisation\n",
        "from statsmodels.graphics.mosaicplot import mosaic  # Mosaic diagram\n",
        "import seaborn as sns                               # Advanced data visualisation"
      ]
    },
    {
      "cell_type": "markdown",
      "metadata": {
        "id": "ISZtcLRc8qHI"
      },
      "source": [
        "## Exercise 2\n",
        "\n",
        "The length of time, in minutes, that customers spend in a coffee shop is recorded. Calculate the following statistics:\n",
        "\n",
        "- Median\n",
        "- Range\n",
        "- Quartiles\n",
        "- Interquartile range\n",
        "\n",
        "Source: Complete Probability & Statistics 1 for Cambridge International As & A Level"
      ]
    },
    {
      "cell_type": "code",
      "execution_count": null,
      "metadata": {
        "colab": {
          "base_uri": "https://localhost:8080/"
        },
        "id": "BntQ7l2L83tu",
        "outputId": "6fd7374e-5c0b-482f-9baa-5d704eb8a44c"
      },
      "outputs": [],
      "source": [
        "times = np.array([17, 15, 9, 31, 33, 41, 8, 14, 13, 22, 27, 43, 32, 14])\n",
        "times.mean()\n",
        "percentiles = np.array([0,25,50,75,100])\n",
        "\n",
        "np.quantile(times, percentiles)\n"
      ]
    }
  ],
  "metadata": {
    "colab": {
      "provenance": []
    },
    "gpuClass": "standard",
    "kernelspec": {
      "display_name": "Python 3",
      "name": "python3"
    },
    "language_info": {
      "name": "python"
    },
    "orig_nbformat": 4
  },
  "nbformat": 4,
  "nbformat_minor": 0
}
