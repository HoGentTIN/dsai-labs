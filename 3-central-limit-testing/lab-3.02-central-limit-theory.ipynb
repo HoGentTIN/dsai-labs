{
 "cells": [
  {
   "cell_type": "markdown",
   "metadata": {},
   "source": [
    "# Lab 3.02 - The Central Limit Theorem\n",
    "\n"
   ]
  },
  {
   "cell_type": "code",
   "execution_count": null,
   "metadata": {},
   "outputs": [],
   "source": [
    "# Package Imports"
   ]
  },
  {
   "cell_type": "markdown",
   "metadata": {},
   "source": [
    "## Exercise 2.1 - Cholesterol \n",
    "\n",
    "A health survey between 1988 and 1994 indicated that the mean cholesterol value for women between the age of 20 and 29 was 183 mg/dl, with a standard deviation equal to 36. We now take a random sample of 81 women.\n",
    "\n",
    "1. Plot the probability distribution of the sample mean $\\overline{x}$.\n",
    "2. What is the probability of the sample mean being $\\overline{x} < 185$? (Answer ≈ 69,1%)\n",
    "3. What is the probability of $175 < \\overline{x} < 185$ (Answer ≈ 66,9%)\n",
    "4. What is the probability of $\\overline{x} > 190$ (Answer ≈ 4,0%)"
   ]
  },
  {
   "cell_type": "markdown",
   "metadata": {},
   "source": [
    "Les Data Science & AI CLT oefeningen + Hypothesis Testing => 39.25"
   ]
  },
  {
   "cell_type": "code",
   "execution_count": null,
   "metadata": {},
   "outputs": [],
   "source": []
  },
  {
   "cell_type": "markdown",
   "metadata": {},
   "source": [
    "## Exercise 2.2\n",
    "\n",
    "A random sample of 64 is drawn from a population with unknown distribution. However, the expectation and standard deviation of the population are known: $\\mu = 20$ and $\\sigma = 16$.\n",
    "\n",
    "1. Plot the probability distribution of the sample mean.\n",
    "2. Calculate the z-score for $\\overline{x_1} = 15.5$  \n",
    "3. Calculate the z-score for $\\overline{x_2} = 23$ \n",
    "4. Determine the probability that 16 < $\\overline{x}$ < 22 (Answer ≈ 81.9%)"
   ]
  },
  {
   "cell_type": "code",
   "execution_count": null,
   "metadata": {},
   "outputs": [],
   "source": []
  },
  {
   "cell_type": "markdown",
   "metadata": {},
   "source": [
    "## Exercise 2.3\n",
    "\n",
    "When students write in their bachelor thesis proposal that they want to conduct a survey, we usually try to dissuade them from doing so. With what you have learned about sampling and the central limit theorem, can you think of some reasons why we do this?"
   ]
  },
  {
   "cell_type": "markdown",
   "metadata": {},
   "source": []
  }
 ],
 "metadata": {
  "kernelspec": {
   "display_name": "Python 3",
   "language": "python",
   "name": "python3"
  },
  "language_info": {
   "codemirror_mode": {
    "name": "ipython",
    "version": 3
   },
   "file_extension": ".py",
   "mimetype": "text/x-python",
   "name": "python",
   "nbconvert_exporter": "python",
   "pygments_lexer": "ipython3",
   "version": "3.11.8"
  }
 },
 "nbformat": 4,
 "nbformat_minor": 2
}
